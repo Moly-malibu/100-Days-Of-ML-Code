{
  "nbformat": 4,
  "nbformat_minor": 0,
  "metadata": {
    "colab": {
      "name": "Decision_treee_fuction.ipynb",
      "provenance": [],
      "collapsed_sections": [],
      "authorship_tag": "ABX9TyNUR8yEqxF2tTBoGeZ9Ye4U",
      "include_colab_link": true
    },
    "kernelspec": {
      "name": "python3",
      "display_name": "Python 3"
    }
  },
  "cells": [
    {
      "cell_type": "markdown",
      "metadata": {
        "id": "view-in-github",
        "colab_type": "text"
      },
      "source": [
        "<a href=\"https://colab.research.google.com/github/Moly-malibu/100-Days-Of-ML-Code/blob/master/Decision_treee_OOP.ipynb\" target=\"_parent\"><img src=\"https://colab.research.google.com/assets/colab-badge.svg\" alt=\"Open In Colab\"/></a>"
      ]
    },
    {
      "cell_type": "markdown",
      "metadata": {
        "id": "e--De9qZBGp4",
        "colab_type": "text"
      },
      "source": [
        "#Example OOP python"
      ]
    },
    {
      "cell_type": "code",
      "metadata": {
        "id": "dOz8IVM1d_oL",
        "colab_type": "code",
        "colab": {}
      },
      "source": [
        "from random import seed\n",
        "from random import randrange\n",
        "from csv import reader\n",
        " \n",
        "# Load file\n",
        "def load(filename):\n",
        "\tfile = open(filename, \"rt\")\n",
        "\tlines = reader(file)\n",
        "\tdata = list(lines)\n",
        "\treturn data"
      ],
      "execution_count": null,
      "outputs": []
    },
    {
      "cell_type": "code",
      "metadata": {
        "id": "So-AASTQeCuz",
        "colab_type": "code",
        "colab": {}
      },
      "source": [
        "#Pass string column to float\n",
        "def str_to_float(data, column):\n",
        "\tfor row in data:\n",
        "\t\trow[column] = float(row[column].strip())"
      ],
      "execution_count": null,
      "outputs": []
    },
    {
      "cell_type": "markdown",
      "metadata": {
        "id": "eczBIHECpNue",
        "colab_type": "text"
      },
      "source": [
        "##K Folds\n",
        "\n",
        "K-Fold CV is where a given data set is split into a K number of sections/folds where each fold is used as a testing set at some point. "
      ]
    },
    {
      "cell_type": "code",
      "metadata": {
        "id": "d2FT20PZeEmH",
        "colab_type": "code",
        "colab": {}
      },
      "source": [
        "# Split k folds\n",
        "def cross_validation(data, n_folds):\n",
        "\tdata_split = list()\n",
        "\tdata_copy = list(data)\n",
        "\tfold_size = int(len(data) / n_folds)\n",
        "\tfor i in range(n_folds):\n",
        "\t\tfold = list()\n",
        "\t\twhile len(fold) < fold_size:\n",
        "\t\t\tindex = randrange(len(data_copy))\n",
        "\t\t\tfold.append(data_copy.pop(index))\n",
        "\t\tdata_split.append(fold)\n",
        "\treturn data_split"
      ],
      "execution_count": null,
      "outputs": []
    },
    {
      "cell_type": "markdown",
      "metadata": {
        "id": "oQchOSlYpR6l",
        "colab_type": "text"
      },
      "source": [
        "##Accuracy percentage\n",
        "\n",
        "The accuracy is a measure of the degree of closeness of a measured or calculated value to its actual value. The percent error is the ratio of the error to the actual value multiplied by 100. The precision of a measurement is a measure of the reproducibility of a set of measurements."
      ]
    },
    {
      "cell_type": "code",
      "metadata": {
        "id": "A7ILvOwteHc3",
        "colab_type": "code",
        "colab": {}
      },
      "source": [
        "#Accuracy percentage\n",
        "def accuracy_metric(actual, predicted):\n",
        "\tcorrect = 0\n",
        "\tfor i in range(len(actual)):\n",
        "\t\tif actual[i] == predicted[i]:\n",
        "\t\t\tcorrect += 1\n",
        "\treturn correct / float(len(actual)) * 100.0"
      ],
      "execution_count": null,
      "outputs": []
    },
    {
      "cell_type": "markdown",
      "metadata": {
        "id": "d9owC2kfp7oy",
        "colab_type": "text"
      },
      "source": [
        "##Cross-validation:\n",
        "\n",
        "Cross-validation, sometimes called rotation estimation or out-of-sample testing, is any of various similar model validation techniques for assessing how the results of a statistical analysis will generalize to an independent data set."
      ]
    },
    {
      "cell_type": "code",
      "metadata": {
        "id": "ZlHOmNvpeJJ4",
        "colab_type": "code",
        "colab": {}
      },
      "source": [
        "#Cross validation split\n",
        "def evaluate_algorithm(data, algorithm, n_folds, *args):\n",
        "\tfolds = cross_validation(data, n_folds)\n",
        "\tscores = list()\n",
        "\tfor fold in folds:\n",
        "\t\ttrain_set = list(folds)\n",
        "\t\ttrain_set.remove(fold)\n",
        "\t\ttrain_set = sum(train_set, [])\n",
        "\t\ttest_set = list()\n",
        "\t\tfor row in fold:\n",
        "\t\t\trow_copy = list(row)\n",
        "\t\t\ttest_set.append(row_copy)\n",
        "\t\t\trow_copy[-1] = None\n",
        "\t\tpredicted = algorithm(train_set, test_set, *args)\n",
        "\t\tactual = [row[-1] for row in fold]\n",
        "\t\taccuracy = accuracy_metric(actual, predicted)\n",
        "\t\tscores.append(accuracy)\n",
        "\treturn scores"
      ],
      "execution_count": null,
      "outputs": []
    },
    {
      "cell_type": "markdown",
      "metadata": {
        "id": "XLtxXA-2qJH7",
        "colab_type": "text"
      },
      "source": [
        "##Split data\n",
        "\n",
        "Data splitting is the act of partitioning available data into. two portions, usually for cross-validatory purposes. One. portion of the data is used to develop a predictive model. and the other to evaluate the model's performance."
      ]
    },
    {
      "cell_type": "code",
      "metadata": {
        "id": "eAskE9JQeKq8",
        "colab_type": "code",
        "colab": {}
      },
      "source": [
        "# Split a data\n",
        "def test_split(index, value, data):\n",
        "\tleft, right = list(), list()\n",
        "\tfor row in data:\n",
        "\t\tif row[index] < value:\n",
        "\t\t\tleft.append(row)\n",
        "\t\telse:\n",
        "\t\t\tright.append(row)\n",
        "\treturn left, right"
      ],
      "execution_count": null,
      "outputs": []
    },
    {
      "cell_type": "markdown",
      "metadata": {
        "id": "7xE1Vb1EqT8i",
        "colab_type": "text"
      },
      "source": [
        "##Gini Index\n",
        "\n",
        "The Gini Index is a summary measure of income inequality. The Gini coefficient incorporates the detailed shares data into a single statistic, which summarizes the dispersion of income across the entire income distribution."
      ]
    },
    {
      "cell_type": "code",
      "metadata": {
        "id": "GJ8KvfqFeLOA",
        "colab_type": "code",
        "colab": {}
      },
      "source": [
        "#The Gini index for a split data\n",
        "def gini_index(groups, classes):\n",
        "\tn_instances = float(sum([len(group) for group in groups]))\n",
        "\tgini = 0.0\n",
        "\tfor group in groups:\n",
        "\t\tsize = float(len(group))\n",
        "\t\tif size == 0:\n",
        "\t\t\tcontinue\n",
        "\t\tscore = 0.0\n",
        "\t\tfor class_val in classes:\n",
        "\t\t\tp = [row[-1] for row in group].count(class_val) / size\n",
        "\t\t\tscore += p * p\n",
        "\t\tgini += (1.0 - score) * (size / n_instances)\n",
        "\treturn gini"
      ],
      "execution_count": null,
      "outputs": []
    },
    {
      "cell_type": "markdown",
      "metadata": {
        "id": "hAmm037LrNKA",
        "colab_type": "text"
      },
      "source": [
        "##Split data"
      ]
    },
    {
      "cell_type": "code",
      "metadata": {
        "id": "02IPmRuReNO-",
        "colab_type": "code",
        "colab": {}
      },
      "source": [
        "#The best split point for a data\n",
        "def add_split(data):\n",
        "\tclass_values = list(set(row[-1] for row in data))\n",
        "\tb_index, b_value, b_score, b_groups = 999, 999, 999, None\n",
        "\tfor index in range(len(data[0])-1):\n",
        "\t\tfor row in data:\n",
        "\t\t\tgroups = test_split(index, row[index], data)\n",
        "\t\t\tgini = gini_index(groups, class_values)\n",
        "\t\t\tif gini < b_score:\n",
        "\t\t\t\tb_index, b_value, b_score, b_groups = index, row[index], gini, groups\n",
        "\treturn {'index':b_index, 'value':b_value, 'groups':b_groups}"
      ],
      "execution_count": null,
      "outputs": []
    },
    {
      "cell_type": "markdown",
      "metadata": {
        "id": "oUCvjcMKoKfj",
        "colab_type": "text"
      },
      "source": [
        "##Create child and terminal"
      ]
    },
    {
      "cell_type": "code",
      "metadata": {
        "id": "4ovbljsueO4t",
        "colab_type": "code",
        "colab": {}
      },
      "source": [
        "# Create child splits  \n",
        "def split(node, max_depth, min_size, depth):\n",
        "\tleft, right = node['groups']\n",
        "\tdel(node['groups'])\n",
        "\tif not left or not right:\n",
        "\t\tnode['left'] = node['right'] = terminal(left + right)\n",
        "\t\treturn\n",
        "\tif depth >= max_depth:\n",
        "\t\tnode['left'], node['right'] = terminal(left), terminal(right)\n",
        "\t\treturn\n",
        "\tif len(left) <= min_size:\n",
        "\t\tnode['left'] = terminal(left)\n",
        "\telse:\n",
        "\t\tnode['left'] = add_split(left)\n",
        "\t\tsplit(node['left'], max_depth, min_size, depth+1)\n",
        "\tif len(right) <= min_size:\n",
        "\t\tnode['right'] = terminal(right)\n",
        "\telse:\n",
        "\t\tnode['right'] = add_split(right)\n",
        "\t\tsplit(node['right'], max_depth, min_size, depth+1)"
      ],
      "execution_count": null,
      "outputs": []
    },
    {
      "cell_type": "markdown",
      "metadata": {
        "id": "iAPTF3Taqklo",
        "colab_type": "text"
      },
      "source": [
        "##Decision Tree"
      ]
    },
    {
      "cell_type": "code",
      "metadata": {
        "id": "0KDFiPUJeQrT",
        "colab_type": "code",
        "colab": {}
      },
      "source": [
        "# Build a decision tree\n",
        "def build_tree(train, max_depth, min_size):\n",
        "\troot = add_split(train)\n",
        "\tsplit(root, max_depth, min_size, 1)\n",
        "\treturn root"
      ],
      "execution_count": null,
      "outputs": []
    },
    {
      "cell_type": "markdown",
      "metadata": {
        "id": "VPqIRf8mrd1d",
        "colab_type": "text"
      },
      "source": [
        "##Prediction:\n",
        "\n",
        "Decision Trees. Decision Trees (DTs) are a non-parametric supervised learning method used for classification and regression. The goal is to create a model that predicts the value of a target variable by learning simple decision rules inferred from the data features."
      ]
    },
    {
      "cell_type": "code",
      "metadata": {
        "id": "EjloPQKLeTkY",
        "colab_type": "code",
        "colab": {}
      },
      "source": [
        "#Prediction with a decision tree\n",
        "def predict(node, row):\n",
        "\tif row[node['index']] < node['value']:\n",
        "\t\tif isinstance(node['left'], dict):\n",
        "\t\t\treturn predict(node['left'], row)\n",
        "\t\telse:\n",
        "\t\t\treturn node['left']\n",
        "\telse:\n",
        "\t\tif isinstance(node['right'], dict):\n",
        "\t\t\treturn predict(node['right'], row)\n",
        "\t\telse:\n",
        "\t\t\treturn node['right']"
      ],
      "execution_count": null,
      "outputs": []
    },
    {
      "cell_type": "markdown",
      "metadata": {
        "id": "ouAk2fd0rpk0",
        "colab_type": "text"
      },
      "source": [
        "##Classification and Regression Tree "
      ]
    },
    {
      "cell_type": "code",
      "metadata": {
        "id": "vY9hzKtdeb0a",
        "colab_type": "code",
        "colab": {}
      },
      "source": [
        "#Classification and Regression Tree:\n",
        "def decision_tree(train, test, max_depth, min_size):\n",
        "\ttree = build_tree(train, max_depth, min_size)\n",
        "\tpredictions = list()\n",
        "\tfor row in test:\n",
        "\t\tprediction = predict(tree, row)\n",
        "\t\tpredictions.append(prediction)\n",
        "\treturn(predictions)"
      ],
      "execution_count": null,
      "outputs": []
    },
    {
      "cell_type": "code",
      "metadata": {
        "id": "AAXKLSADedYL",
        "colab_type": "code",
        "colab": {}
      },
      "source": [
        "# Test data\n",
        "seed(1)\n",
        "# load and prepare data\n",
        "filename = 'commodity_trade_statistics_data.csv'\n",
        "data = load(filename)\n",
        "for i in range(len(data[0])):\n",
        "        str_to_float(data, i)\n",
        "        n_folds = 5\n",
        "        max_depth = 5\n",
        "        min_size = 10\n",
        "        scores = evaluate_algorithm(data, decision_tree, n_folds, max_depth, min_size)\n",
        "print('Optimice de Scores: %s' % scores)\n",
        "print('Mean Accuracy: %.3f%%' % (sum(scores)/float(len(scores))))"
      ],
      "execution_count": null,
      "outputs": []
    }
  ]
}