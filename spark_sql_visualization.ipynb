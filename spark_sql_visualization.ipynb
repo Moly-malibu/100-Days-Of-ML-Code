{
  "nbformat": 4,
  "nbformat_minor": 0,
  "metadata": {
    "kernelspec": {
      "display_name": "Python 3.7",
      "language": "python",
      "name": "python3"
    },
    "language_info": {
      "codemirror_mode": {
        "name": "ipython",
        "version": 3
      },
      "file_extension": ".py",
      "mimetype": "text/x-python",
      "name": "python",
      "nbconvert_exporter": "python",
      "pygments_lexer": "ipython3",
      "version": "3.7.10"
    },
    "colab": {
      "name": "spark_sql_visualization.ipynb",
      "provenance": [],
      "include_colab_link": true
    }
  },
  "cells": [
    {
      "cell_type": "markdown",
      "metadata": {
        "id": "view-in-github",
        "colab_type": "text"
      },
      "source": [
        "<a href=\"https://colab.research.google.com/github/Moly-malibu/100-Days-Of-ML-Code/blob/master/spark_sql_visualization.ipynb\" target=\"_parent\"><img src=\"https://colab.research.google.com/assets/colab-badge.svg\" alt=\"Open In Colab\"/></a>"
      ]
    },
    {
      "cell_type": "markdown",
      "metadata": {
        "id": "m2dYDaLRL2oz"
      },
      "source": [
        "This notebook is designed to run in a IBM Watson Studio default runtime (NOT the Watson Studio Apache Spark Runtime as the default runtime with 1 vCPU is free of charge). Therefore, we install Apache Spark in local mode for test purposes only. Please don't use it in production.\n",
        "\n",
        "In case you are facing issues, please read the following two documents first:\n",
        "\n",
        "https://github.com/IBM/skillsnetwork/wiki/Environment-Setup\n",
        "\n",
        "https://github.com/IBM/skillsnetwork/wiki/FAQ\n",
        "\n",
        "Then, please feel free to ask:\n",
        "\n",
        "https://coursera.org/learn/machine-learning-big-data-apache-spark/discussions/all\n",
        "\n",
        "Please make sure to follow the guidelines before asking a question:\n",
        "\n",
        "https://github.com/IBM/skillsnetwork/wiki/FAQ#im-feeling-lost-and-confused-please-help-me\n",
        "\n",
        "\n",
        "If running outside Watson Studio, this should work as well. In case you are running in an Apache Spark context outside Watson Studio, please remove the Apache Spark setup in the first notebook cells."
      ]
    },
    {
      "cell_type": "code",
      "metadata": {
        "id": "7Xd5J4aVL2o0"
      },
      "source": [
        "from IPython.display import Markdown, display\n",
        "def printmd(string):\n",
        "    display(Markdown('# <span style=\"color:red\">'+string+'</span>'))\n",
        "\n",
        "\n",
        "if ('sc' in locals() or 'sc' in globals()):\n",
        "    printmd('<<<<<!!!!! It seems that you are running in a IBM Watson Studio Apache Spark Notebook. Please run it in an IBM Watson Studio Default Runtime (without Apache Spark) !!!!!>>>>>')\n"
      ],
      "execution_count": null,
      "outputs": []
    },
    {
      "cell_type": "code",
      "metadata": {
        "id": "AnN2aZYhL2o1",
        "outputId": "15f13af3-994b-4745-b246-7394fbbf56bc"
      },
      "source": [
        "!pip install pyspark==2.4.5"
      ],
      "execution_count": null,
      "outputs": [
        {
          "output_type": "stream",
          "text": [
            "Collecting pyspark==2.4.5\n",
            "  Downloading pyspark-2.4.5.tar.gz (217.8 MB)\n",
            "\u001b[K     |████████████████████████████████| 217.8 MB 11 kB/s s eta 0:00:01\n",
            "\u001b[?25hCollecting py4j==0.10.7\n",
            "  Downloading py4j-0.10.7-py2.py3-none-any.whl (197 kB)\n",
            "\u001b[K     |████████████████████████████████| 197 kB 64.1 MB/s eta 0:00:01\n",
            "\u001b[?25hBuilding wheels for collected packages: pyspark\n",
            "  Building wheel for pyspark (setup.py) ... \u001b[?25ldone\n",
            "\u001b[?25h  Created wheel for pyspark: filename=pyspark-2.4.5-py2.py3-none-any.whl size=218257927 sha256=af50af096cab70d146c67f3651dda3b6d80aea3c3b88786aea82334106db5aa8\n",
            "  Stored in directory: /tmp/wsuser/.cache/pip/wheels/01/c0/03/1c241c9c482b647d4d99412a98a5c7f87472728ad41ae55e1e\n",
            "Successfully built pyspark\n",
            "Installing collected packages: py4j, pyspark\n",
            "Successfully installed py4j-0.10.7 pyspark-2.4.5\n"
          ],
          "name": "stdout"
        }
      ]
    },
    {
      "cell_type": "code",
      "metadata": {
        "id": "FXtQeoqfL2o2"
      },
      "source": [
        "try:\n",
        "    from pyspark import SparkContext, SparkConf\n",
        "    from pyspark.sql import SparkSession\n",
        "except ImportError as e:\n",
        "    printmd('<<<<<!!!!! Please restart your kernel after installing Apache Spark !!!!!>>>>>')"
      ],
      "execution_count": null,
      "outputs": []
    },
    {
      "cell_type": "code",
      "metadata": {
        "id": "wKsVXkxVL2o2"
      },
      "source": [
        "sc = SparkContext.getOrCreate(SparkConf().setMaster(\"local[*]\"))\n",
        "\n",
        "spark = SparkSession \\\n",
        "    .builder \\\n",
        "    .getOrCreate()"
      ],
      "execution_count": null,
      "outputs": []
    },
    {
      "cell_type": "markdown",
      "metadata": {
        "id": "_BZgRtGxL2o2"
      },
      "source": [
        "Sampling is one of the most important things when it comes to visualization because often the data set gets so huge that you simply\n",
        "\n",
        "- can't copy all data to a local Spark driver (Watson Studio is using a \"local\" Spark driver)\n",
        "- can't throw all data at the plotting library\n",
        "\n",
        "Please implement a function which returns a 10% sample of a given data frame:"
      ]
    },
    {
      "cell_type": "code",
      "metadata": {
        "id": "JLM-Qu9mL2o3"
      },
      "source": [
        "def getSample(df, spark):\n",
        "    #TODO Please enter your code here, you are not required to use the template code below\n",
        "    #some reference: https://spark.apache.org/docs/latest/api/python/pyspark.sql.html#pyspark.sql.DataFrame\n",
        "    #https://spark.apache.org/docs/latest/api/sql/\n",
        "    df = spark.sql('select * from washing').sample(False, 0.1)\n",
        "    return df # YOUR CODE GOES HERE(False,#YOUR CODE GOES HERE)"
      ],
      "execution_count": null,
      "outputs": []
    },
    {
      "cell_type": "markdown",
      "metadata": {
        "id": "CyFNpm8sL2o3"
      },
      "source": [
        "Now we want to create a histogram and boxplot. Please ignore the sampling for now and return a python list containing all temperature values from the data set"
      ]
    },
    {
      "cell_type": "code",
      "metadata": {
        "id": "OCVVITPFL2o3"
      },
      "source": [
        "def getListForHistogramAndBoxPlot(df, spark):\n",
        "    #TODO Please enter your code here, you are not required to use the template code below\n",
        "    #some reference: https://spark.apache.org/docs/latest/api/python/pyspark.sql.html#pyspark.sql.DataFrame\n",
        "    #https://spark.apache.org/docs/latest/api/sql/\n",
        "    my_list = spark.sql(\"SELECT temperature from washing where temperature is not null\").rdd.map(lambda row: row.temperature).collect()\n",
        "    if not type(my_list)==list:\n",
        "        raise Exception('return type not a list')\n",
        "    return my_list"
      ],
      "execution_count": null,
      "outputs": []
    },
    {
      "cell_type": "markdown",
      "metadata": {
        "id": "m0FOf1N6L2o4"
      },
      "source": [
        "Finally we want to create a run chart. Please return two lists (encapsulated in a python tuple object) containing temperature and timestamp (ts) ordered by timestamp. Please refer to the following link to learn more about tuples in python: https://www.tutorialspoint.com/python/python_tuples.htm"
      ]
    },
    {
      "cell_type": "code",
      "metadata": {
        "id": "YCCUFNbwL2o4"
      },
      "source": [
        "#should return a tuple containing the two lists for timestamp and temperature\n",
        "#please make sure you take only 10% of the data by sampling\n",
        "#please also ensure that you sample in a way that the timestamp samples and temperature samples correspond (=> call sample on an object still containing both dimensions)\n",
        "def getListsForRunChart(df, spark):\n",
        "    #TODO Please enter your code here, you are not required to use the template code below\n",
        "    #some reference: https://spark.apache.org/docs/latest/api/python/pyspark.sql.html#pyspark.sql.DataFrame\n",
        "    #https://spark.apache.org/docs/latest/api/sql/\n",
        "    double_tuple_rdd = spark.sql(\"select temperature, ts from washing where temperature is not null order by ts asc\").sample(False,0.1).rdd.map(lambda row : (row.ts,row.temperature))\n",
        "    result_array_ts = double_tuple_rdd.map(lambda ts_temperature: ts_temperature[0]).collect()\n",
        "    result_array_temperature = double_tuple_rdd.map(lambda ts_temperature: ts_temperature[1]).collect()\n",
        "    return (result_array_ts,result_array_temperature)"
      ],
      "execution_count": null,
      "outputs": []
    },
    {
      "cell_type": "markdown",
      "metadata": {
        "id": "6XVFGNw5L2o4"
      },
      "source": [
        "Now it is time to grab a PARQUET file and create a dataframe out of it. Using SparkSQL you can handle it like a database. "
      ]
    },
    {
      "cell_type": "code",
      "metadata": {
        "id": "jehCKmlUL2o5",
        "outputId": "74ab6f12-507e-44b0-e19f-3ba98b9c9e70"
      },
      "source": [
        "!wget https://github.com/IBM/coursera/blob/master/coursera_ds/washing.parquet?raw=true\n",
        "!mv washing.parquet?raw=true washing.parquet"
      ],
      "execution_count": null,
      "outputs": [
        {
          "output_type": "stream",
          "text": [
            "--2021-02-24 19:14:21--  https://github.com/IBM/coursera/blob/master/coursera_ds/washing.parquet?raw=true\n",
            "Resolving github.com (github.com)... 140.82.112.3\n",
            "Connecting to github.com (github.com)|140.82.112.3|:443... connected.\n",
            "HTTP request sent, awaiting response... 301 Moved Permanently\n",
            "Location: https://github.com/IBM/skillsnetwork/blob/master/coursera_ds/washing.parquet?raw=true [following]\n",
            "--2021-02-24 19:14:21--  https://github.com/IBM/skillsnetwork/blob/master/coursera_ds/washing.parquet?raw=true\n",
            "Reusing existing connection to github.com:443.\n",
            "HTTP request sent, awaiting response... 302 Found\n",
            "Location: https://github.com/IBM/skillsnetwork/raw/master/coursera_ds/washing.parquet [following]\n",
            "--2021-02-24 19:14:21--  https://github.com/IBM/skillsnetwork/raw/master/coursera_ds/washing.parquet\n",
            "Reusing existing connection to github.com:443.\n",
            "HTTP request sent, awaiting response... 302 Found\n",
            "Location: https://raw.githubusercontent.com/IBM/skillsnetwork/master/coursera_ds/washing.parquet [following]\n",
            "--2021-02-24 19:14:21--  https://raw.githubusercontent.com/IBM/skillsnetwork/master/coursera_ds/washing.parquet\n",
            "Resolving raw.githubusercontent.com (raw.githubusercontent.com)... 185.199.109.133, 185.199.108.133, 185.199.111.133, ...\n",
            "Connecting to raw.githubusercontent.com (raw.githubusercontent.com)|185.199.109.133|:443... connected.\n",
            "HTTP request sent, awaiting response... 200 OK\n",
            "Length: 112048 (109K) [application/octet-stream]\n",
            "Saving to: ‘washing.parquet?raw=true’\n",
            "\n",
            "washing.parquet?raw 100%[===================>] 109.42K  --.-KB/s    in 0.002s  \n",
            "\n",
            "2021-02-24 19:14:22 (51.0 MB/s) - ‘washing.parquet?raw=true’ saved [112048/112048]\n",
            "\n"
          ],
          "name": "stdout"
        }
      ]
    },
    {
      "cell_type": "code",
      "metadata": {
        "id": "t-64uAgqL2o5",
        "outputId": "efd6388a-5f62-4583-dfcf-c50e7bc54284"
      },
      "source": [
        "df = spark.read.parquet('washing.parquet')\n",
        "df.createOrReplaceTempView('washing')\n",
        "df.show()"
      ],
      "execution_count": null,
      "outputs": [
        {
          "output_type": "stream",
          "text": [
            "+--------------------+--------------------+-----+--------+----------+---------+--------+-----+-----------+-------------+-------+\n",
            "|                 _id|                _rev|count|flowrate|fluidlevel|frequency|hardness|speed|temperature|           ts|voltage|\n",
            "+--------------------+--------------------+-----+--------+----------+---------+--------+-----+-----------+-------------+-------+\n",
            "|0d86485d0f88d1f9d...|1-57940679fb8a713...|    4|      11|acceptable|     null|      77| null|        100|1547808723923|   null|\n",
            "|0d86485d0f88d1f9d...|1-15ff3a0b304d789...|    2|    null|      null|     null|    null| 1046|       null|1547808729917|   null|\n",
            "|0d86485d0f88d1f9d...|1-97c2742b68c7b07...|    4|    null|      null|       71|    null| null|       null|1547808731918|    236|\n",
            "|0d86485d0f88d1f9d...|1-eefb903dbe45746...|   19|      11|acceptable|     null|      75| null|         86|1547808738999|   null|\n",
            "|0d86485d0f88d1f9d...|1-5f68b4c72813c25...|    7|    null|      null|       75|    null| null|       null|1547808740927|    235|\n",
            "|0d86485d0f88d1f9d...|1-cd4b6c57ddbe77e...|    5|    null|      null|     null|    null| 1014|       null|1547808744923|   null|\n",
            "|0d86485d0f88d1f9d...|1-a35b25b5bf43aaf...|   32|      11|acceptable|     null|      73| null|         84|1547808752028|   null|\n",
            "|0d86485d0f88d1f9d...|1-b717f7289a8476d...|   48|      11|acceptable|     null|      79| null|         84|1547808768065|   null|\n",
            "|0d86485d0f88d1f9d...|1-c2f1f8fcf178b2f...|   18|    null|      null|       73|    null| null|       null|1547808773944|    228|\n",
            "|0d86485d0f88d1f9d...|1-15033dd9eebb4a8...|   59|      11|acceptable|     null|      72| null|         96|1547808779093|   null|\n",
            "|0d86485d0f88d1f9d...|1-753dae825f9a6c2...|   62|      11|acceptable|     null|      73| null|         88|1547808782113|   null|\n",
            "|0d86485d0f88d1f9d...|1-b168089f44f03f0...|   13|    null|      null|     null|    null| 1097|       null|1547808784940|   null|\n",
            "|0d86485d0f88d1f9d...|1-403b687c6be0dea...|   23|    null|      null|       80|    null| null|       null|1547808788955|    236|\n",
            "|0d86485d0f88d1f9d...|1-195551e0455a24b...|   72|      11|acceptable|     null|      77| null|         87|1547808792134|   null|\n",
            "|0d86485d0f88d1f9d...|1-060a39fc6c2ddee...|   26|    null|      null|       62|    null| null|       null|1547808797959|    233|\n",
            "|0d86485d0f88d1f9d...|1-2234514bffee465...|   27|    null|      null|       61|    null| null|       null|1547808800960|    226|\n",
            "|0d86485d0f88d1f9d...|1-4265898bb401db0...|   82|      11|acceptable|     null|      79| null|         96|1547808802154|   null|\n",
            "|0d86485d0f88d1f9d...|1-2fbf7ca9a0425a0...|   94|      11|acceptable|     null|      73| null|         90|1547808814186|   null|\n",
            "|0d86485d0f88d1f9d...|1-203c0ee6d7fbd21...|   97|      11|acceptable|     null|      77| null|         88|1547808817190|   null|\n",
            "|0d86485d0f88d1f9d...|1-47e1965db94fcab...|  104|      11|acceptable|     null|      75| null|         80|1547808824198|   null|\n",
            "+--------------------+--------------------+-----+--------+----------+---------+--------+-----+-----------+-------------+-------+\n",
            "only showing top 20 rows\n",
            "\n"
          ],
          "name": "stdout"
        }
      ]
    },
    {
      "cell_type": "markdown",
      "metadata": {
        "id": "uBW4lGHkL2o6"
      },
      "source": [
        "Now we gonna test the functions you've completed and visualize the data."
      ]
    },
    {
      "cell_type": "code",
      "metadata": {
        "id": "xnGmPL7KL2o6"
      },
      "source": [
        "%matplotlib inline\n",
        "import matplotlib.pyplot as plt"
      ],
      "execution_count": null,
      "outputs": []
    },
    {
      "cell_type": "code",
      "metadata": {
        "id": "kSBvP3lIL2o6",
        "outputId": "30159e28-0083-4b84-be06-8f77f358ba7a"
      },
      "source": [
        "plt.hist(getListForHistogramAndBoxPlot(df, spark))\n",
        "plt.show()"
      ],
      "execution_count": null,
      "outputs": [
        {
          "output_type": "display_data",
          "data": {
            "image/png": "[encoded data removed]",
            "text/plain": [
              "<Figure size 432x288 with 1 Axes>"
            ]
          },
          "metadata": {
            "tags": [],
            "needs_background": "light"
          }
        }
      ]
    },
    {
      "cell_type": "code",
      "metadata": {
        "id": "MOrlpZGIL2o6",
        "outputId": "8be341b3-d331-4fa6-c741-3159ae2dc7f2"
      },
      "source": [
        "plt.boxplot(getListForHistogramAndBoxPlot(df, spark))\n",
        "plt.show()"
      ],
      "execution_count": null,
      "outputs": [
        {
          "output_type": "display_data",
          "data": {
            "image/png": "[encoded data removed]",
            "text/plain": [
              "<Figure size 432x288 with 1 Axes>"
            ]
          },
          "metadata": {
            "tags": [],
            "needs_background": "light"
          }
        }
      ]
    },
    {
      "cell_type": "code",
      "metadata": {
        "id": "CWy4MbQ0L2o7"
      },
      "source": [
        "lists = getListsForRunChart(df, spark)"
      ],
      "execution_count": null,
      "outputs": []
    },
    {
      "cell_type": "code",
      "metadata": {
        "id": "dso0bHvML2o7",
        "outputId": "efca0f73-fb68-41e6-c338-4b0f3916c467"
      },
      "source": [
        "plt.plot(lists[0],lists[1])\n",
        "plt.xlabel(\"time\")\n",
        "plt.ylabel(\"temperature\")\n",
        "plt.show()"
      ],
      "execution_count": null,
      "outputs": [
        {
          "output_type": "display_data",
          "data": {
            "image/png": "[encoded data removed]",
            "text/plain": [
              "<Figure size 432x288 with 1 Axes>"
            ]
          },
          "metadata": {
            "tags": [],
            "needs_background": "light"
          }
        }
      ]
    },
    {
      "cell_type": "markdown",
      "metadata": {
        "id": "aQpSXwFpL2o7"
      },
      "source": [
        "Congratulations, you are done! The following code submits your solution to the grader. Again, please update your token from the grader's submission page on Coursera"
      ]
    },
    {
      "cell_type": "code",
      "metadata": {
        "id": "F3yJ8Ea0L2o7",
        "outputId": "35cc54dc-12fe-418d-c77c-0ade1ed0ed25"
      },
      "source": [
        "!rm -f rklib.py\n",
        "!wget https://raw.githubusercontent.com/IBM/coursera/master/rklib.py"
      ],
      "execution_count": null,
      "outputs": [
        {
          "output_type": "stream",
          "text": [
            "--2021-02-24 19:15:07--  https://raw.githubusercontent.com/IBM/coursera/master/rklib.py\n",
            "Resolving raw.githubusercontent.com (raw.githubusercontent.com)... 185.199.109.133, 185.199.111.133, 185.199.110.133, ...\n",
            "Connecting to raw.githubusercontent.com (raw.githubusercontent.com)|185.199.109.133|:443... connected.\n",
            "HTTP request sent, awaiting response... 200 OK\n",
            "Length: 2540 (2.5K) [text/plain]\n",
            "Saving to: ‘rklib.py’\n",
            "\n",
            "rklib.py            100%[===================>]   2.48K  --.-KB/s    in 0s      \n",
            "\n",
            "2021-02-24 19:15:07 (37.3 MB/s) - ‘rklib.py’ saved [2540/2540]\n",
            "\n"
          ],
          "name": "stdout"
        }
      ]
    },
    {
      "cell_type": "code",
      "metadata": {
        "id": "e-g8LBVGL2o8"
      },
      "source": [
        "from rklib import submitAll\n",
        "import json\n",
        "\n",
        "key = \"S5PNoSHNEeisnA6YLL5C0g\"\n",
        "email = 'lilianamlbu@hotmail.com'###_YOUR_CODE_GOES_HERE_###\n",
        "token = 'D2PwvpyGdM4VQRxm' ###_YOUR_CODE_GOES_HERE_### #you can obtain it from the grader page on Coursera (have a look here if you need more information on how to obtain the token https://youtu.be/GcDo0Rwe06U?t=276)"
      ],
      "execution_count": null,
      "outputs": []
    },
    {
      "cell_type": "code",
      "metadata": {
        "id": "lqGm-9ZGL2o8",
        "outputId": "c7841590-de74-4b1b-ab2f-2a69f17b9bb8"
      },
      "source": [
        "parts_data = {}\n",
        "parts_data[\"iLdHs\"] = json.dumps(str(type(getListForHistogramAndBoxPlot(df, spark))))\n",
        "parts_data[\"xucEM\"] = json.dumps(len(getListForHistogramAndBoxPlot(df, spark)))\n",
        "parts_data[\"IyH7U\"] = json.dumps(str(type(getListsForRunChart(df, spark))))\n",
        "parts_data[\"MsMHO\"] = json.dumps(len(getListsForRunChart(df, spark)[0]))\n",
        "\n",
        "submitAll(email, token, key, parts_data)"
      ],
      "execution_count": null,
      "outputs": [
        {
          "output_type": "stream",
          "text": [
            "Submission successful, please check on the coursera grader page for the status\n",
            "-------------------------\n",
            "{\"elements\":[{\"itemId\":\"95cS6\",\"id\":\"sUpST4RAEeawAApvKZgcCQ~95cS6~0PyTpHbUEeuHOAp0tem0HQ\",\"courseId\":\"sUpST4RAEeawAApvKZgcCQ\"}],\"paging\":{},\"linked\":{}}\n",
            "-------------------------\n"
          ],
          "name": "stdout"
        }
      ]
    },
    {
      "cell_type": "code",
      "metadata": {
        "id": "emFHNvU5L2o8"
      },
      "source": [
        ""
      ],
      "execution_count": null,
      "outputs": []
    }
  ]
}